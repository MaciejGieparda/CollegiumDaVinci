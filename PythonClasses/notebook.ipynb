{
 "cells": [
  {
   "cell_type": "code",
   "execution_count": 69,
   "metadata": {},
   "outputs": [],
   "source": [
    "import pandas as pd\n",
    "import numpy as np\n",
    "import sqlite3"
   ]
  },
  {
   "cell_type": "code",
   "execution_count": 70,
   "metadata": {},
   "outputs": [],
   "source": [
    "conn = sqlite3.connect('produkty_zajecia.db')\n"
   ]
  },
  {
   "cell_type": "code",
   "execution_count": 71,
   "metadata": {},
   "outputs": [],
   "source": [
    "c = conn.cursor()"
   ]
  },
  {
   "cell_type": "code",
   "execution_count": 72,
   "metadata": {},
   "outputs": [
    {
     "data": {
      "text/plain": [
       "<sqlite3.Cursor at 0x1413b6740>"
      ]
     },
     "execution_count": 72,
     "metadata": {},
     "output_type": "execute_result"
    }
   ],
   "source": [
    "c.execute('''\n",
    "CREATE TABLE IF NOT EXISTS produkty\n",
    "          ([produkt_id] INTEGER PRIMARY KEY, [nazwa_produktu] TEXT)\n",
    "''')"
   ]
  },
  {
   "cell_type": "code",
   "execution_count": 73,
   "metadata": {},
   "outputs": [
    {
     "data": {
      "text/plain": [
       "<sqlite3.Cursor at 0x1413b6740>"
      ]
     },
     "execution_count": 73,
     "metadata": {},
     "output_type": "execute_result"
    }
   ],
   "source": [
    "c.execute('''\n",
    "CREATE TABLE IF NOT EXISTS ceny\n",
    "          ([produkt_id] INTEGER PRIMARY KEY, [cena] integer)\n",
    "''')"
   ]
  },
  {
   "cell_type": "code",
   "execution_count": 74,
   "metadata": {},
   "outputs": [],
   "source": [
    "conn.commit()"
   ]
  },
  {
   "cell_type": "code",
   "execution_count": 75,
   "metadata": {},
   "outputs": [],
   "source": [
    "c.execute('''\n",
    "INSERT INTO produkty (produkt_id, nazwa_produktu)\n",
    "\n",
    "VALUES\n",
    "          (1, 'Komputer'),\n",
    "          (2, 'Monitor'),\n",
    "          (3, 'Mysz'),\n",
    "          (4, 'Klawiatura'),\n",
    "          (5, 'Drukarka')\n",
    "''')\n",
    "\n",
    "conn.commit()"
   ]
  },
  {
   "cell_type": "code",
   "execution_count": 76,
   "metadata": {},
   "outputs": [],
   "source": [
    "c.execute('''\n",
    "INSERT INTO ceny (produkt_id, cena)\n",
    "\n",
    "VALUES\n",
    "          (1, 1500),\n",
    "          (2, 2000),\n",
    "          (3, 50),\n",
    "          (4, 100),\n",
    "          (5, 1400)\n",
    "''')\n",
    "\n",
    "conn.commit()"
   ]
  },
  {
   "cell_type": "code",
   "execution_count": 79,
   "metadata": {},
   "outputs": [
    {
     "data": {
      "text/html": [
       "<div>\n",
       "<style scoped>\n",
       "    .dataframe tbody tr th:only-of-type {\n",
       "        vertical-align: middle;\n",
       "    }\n",
       "\n",
       "    .dataframe tbody tr th {\n",
       "        vertical-align: top;\n",
       "    }\n",
       "\n",
       "    .dataframe thead th {\n",
       "        text-align: right;\n",
       "    }\n",
       "</style>\n",
       "<table border=\"1\" class=\"dataframe\">\n",
       "  <thead>\n",
       "    <tr style=\"text-align: right;\">\n",
       "      <th></th>\n",
       "      <th>Nazwa produktu</th>\n",
       "      <th>Cena</th>\n",
       "    </tr>\n",
       "  </thead>\n",
       "  <tbody>\n",
       "    <tr>\n",
       "      <th>0</th>\n",
       "      <td>Komputer</td>\n",
       "      <td>1500</td>\n",
       "    </tr>\n",
       "    <tr>\n",
       "      <th>1</th>\n",
       "      <td>Monitor</td>\n",
       "      <td>2000</td>\n",
       "    </tr>\n",
       "    <tr>\n",
       "      <th>2</th>\n",
       "      <td>Mysz</td>\n",
       "      <td>50</td>\n",
       "    </tr>\n",
       "    <tr>\n",
       "      <th>3</th>\n",
       "      <td>Klawiatura</td>\n",
       "      <td>100</td>\n",
       "    </tr>\n",
       "    <tr>\n",
       "      <th>4</th>\n",
       "      <td>Drukarka</td>\n",
       "      <td>1400</td>\n",
       "    </tr>\n",
       "  </tbody>\n",
       "</table>\n",
       "</div>"
      ],
      "text/plain": [
       "  Nazwa produktu  Cena\n",
       "0       Komputer  1500\n",
       "1        Monitor  2000\n",
       "2           Mysz    50\n",
       "3     Klawiatura   100\n",
       "4       Drukarka  1400"
      ]
     },
     "execution_count": 79,
     "metadata": {},
     "output_type": "execute_result"
    }
   ],
   "source": [
    "c.execute(\n",
    "    '''\n",
    "    SELECT a.nazwa_produktu, b.cena FROM produkty a LEFT JOIN ceny b ON a.produkt_id = b.produkt_id\n",
    "    '''\n",
    ")\n",
    "\n",
    "df = pd.DataFrame(c.fetchall(), columns = ['Nazwa produktu', 'Cena'])\n",
    "df.head()"
   ]
  },
  {
   "cell_type": "code",
   "execution_count": 81,
   "metadata": {},
   "outputs": [],
   "source": [
    "conn = sqlite3.connect('books.db')\n",
    "c = conn.cursor()\n",
    "\n",
    "c.execute('''\n",
    "CREATE TABLE IF NOT EXISTS books\n",
    "          ([produkt_id] INTEGER PRIMARY KEY, [nazwa_produktu] TEXT)\n",
    "''')\n",
    "conn.commit()\n",
    "c.execute('''\n",
    "CREATE TABLE IF NOT EXISTS authors\n",
    "          ([produkt_id] INTEGER PRIMARY KEY, [nazwa_produktu] TEXT)\n",
    "''')\n",
    "conn.commit()\n",
    "c.execute('''\n",
    "CREATE TABLE IF NOT EXISTS ceny\n",
    "          ([produkt_id] INTEGER PRIMARY KEY, [cena] integer)\n",
    "''')\n",
    "conn.commit()\n",
    "\n",
    "c.execute('''\n",
    "INSERT INTO books (produkt_id, nazwa_produktu)\n",
    "\n",
    "VALUES\n",
    "          (1, 'Komputer'),\n",
    "          (2, 'Monitor'),\n",
    "          (3, 'Mysz'),\n",
    "          (4, 'Klawiatura'),\n",
    "          (5, 'Drukarka')\n",
    "''')\n",
    "\n",
    "conn.commit()\n",
    "\n",
    "c.execute('''\n",
    "INSERT INTO authors (produkt_id, nazwa_produktu)\n",
    "\n",
    "VALUES\n",
    "          (1, 'Komputer'),\n",
    "          (2, 'Monitor'),\n",
    "          (3, 'Mysz'),\n",
    "          (4, 'Klawiatura'),\n",
    "          (5, 'Drukarka')\n",
    "''')\n",
    "\n",
    "conn.commit()\n",
    "\n",
    "c.execute('''\n",
    "INSERT INTO ceny (produkt_id, cena)\n",
    "\n",
    "VALUES\n",
    "          (1, 1500),\n",
    "          (2, 2000),\n",
    "          (3, 50),\n",
    "          (4, 100),\n",
    "          (5, 1400)\n",
    "''')\n",
    "\n",
    "conn.commit()"
   ]
  },
  {
   "cell_type": "code",
   "execution_count": 88,
   "metadata": {},
   "outputs": [],
   "source": [
    "from sqlalchemy import create_engine, Column, Integer, String, ForeignKey, MetaData, Table\n",
    "from sqlalchemy.ext.declarative import declarative_base\n",
    "from sqlalchemy.orm import sessionmaker\n",
    "\n",
    "engine = create_engine('sqlite:///:memory:', echo=True)\n",
    "Base = declarative_base()\n"
   ]
  },
  {
   "cell_type": "code",
   "execution_count": 89,
   "metadata": {},
   "outputs": [
    {
     "name": "stdout",
     "output_type": "stream",
     "text": [
      "2024-01-21 09:31:35,779 INFO sqlalchemy.engine.Engine BEGIN (implicit)\n",
      "2024-01-21 09:31:35,781 INFO sqlalchemy.engine.Engine PRAGMA main.table_info(\"users\")\n",
      "2024-01-21 09:31:35,781 INFO sqlalchemy.engine.Engine [raw sql] ()\n",
      "2024-01-21 09:31:35,782 INFO sqlalchemy.engine.Engine PRAGMA temp.table_info(\"users\")\n",
      "2024-01-21 09:31:35,783 INFO sqlalchemy.engine.Engine [raw sql] ()\n",
      "2024-01-21 09:31:35,786 INFO sqlalchemy.engine.Engine \n",
      "CREATE TABLE users (\n",
      "\tid INTEGER NOT NULL, \n",
      "\tfirst_name VARCHAR, \n",
      "\tlast_name VARCHAR, \n",
      "\tage INTEGER, \n",
      "\tPRIMARY KEY (id)\n",
      ")\n",
      "\n",
      "\n",
      "2024-01-21 09:31:35,786 INFO sqlalchemy.engine.Engine [no key 0.00072s] ()\n",
      "2024-01-21 09:31:35,787 INFO sqlalchemy.engine.Engine COMMIT\n"
     ]
    }
   ],
   "source": [
    "class User(Base):\n",
    "    __tablename__ = 'users'\n",
    "\n",
    "    id = Column(Integer, primary_key=True)\n",
    "    first_name = Column(String)\n",
    "    last_name = Column(String)\n",
    "    age = Column(Integer)\n",
    "\n",
    "Base.metadata.create_all(engine)"
   ]
  },
  {
   "cell_type": "code",
   "execution_count": 90,
   "metadata": {},
   "outputs": [],
   "source": [
    "Session = sessionmaker(bind=engine)\n",
    "session = Session()\n",
    "user1 = User(first_name='Jan', last_name='Kowalski', age=34)\n",
    "user2 = User(first_name='Adam', last_name='Nowak', age=23)\n",
    "user3 = User(first_name='Anna', last_name='Kowalska', age=45)\n",
    "user4 = User(first_name='Jan', last_name='Nowak', age=12)\n",
    "user5 = User(first_name='Adam', last_name='Kowalski', age=56)"
   ]
  },
  {
   "cell_type": "code",
   "execution_count": 92,
   "metadata": {},
   "outputs": [
    {
     "name": "stdout",
     "output_type": "stream",
     "text": [
      "2024-01-21 09:31:56,719 INFO sqlalchemy.engine.Engine BEGIN (implicit)\n",
      "2024-01-21 09:31:56,722 INFO sqlalchemy.engine.Engine INSERT INTO users (first_name, last_name, age) VALUES (?, ?, ?)\n",
      "2024-01-21 09:31:56,723 INFO sqlalchemy.engine.Engine [generated in 0.00102s] ('Jan', 'Kowalski', 34)\n",
      "2024-01-21 09:31:56,725 INFO sqlalchemy.engine.Engine INSERT INTO users (first_name, last_name, age) VALUES (?, ?, ?)\n",
      "2024-01-21 09:31:56,725 INFO sqlalchemy.engine.Engine [cached since 0.003239s ago] ('Adam', 'Nowak', 23)\n",
      "2024-01-21 09:31:56,727 INFO sqlalchemy.engine.Engine INSERT INTO users (first_name, last_name, age) VALUES (?, ?, ?)\n",
      "2024-01-21 09:31:56,728 INFO sqlalchemy.engine.Engine [cached since 0.006078s ago] ('Anna', 'Kowalska', 45)\n",
      "2024-01-21 09:31:56,729 INFO sqlalchemy.engine.Engine INSERT INTO users (first_name, last_name, age) VALUES (?, ?, ?)\n",
      "2024-01-21 09:31:56,731 INFO sqlalchemy.engine.Engine [cached since 0.008666s ago] ('Jan', 'Nowak', 12)\n",
      "2024-01-21 09:31:56,732 INFO sqlalchemy.engine.Engine INSERT INTO users (first_name, last_name, age) VALUES (?, ?, ?)\n",
      "2024-01-21 09:31:56,732 INFO sqlalchemy.engine.Engine [cached since 0.01007s ago] ('Adam', 'Kowalski', 56)\n",
      "2024-01-21 09:31:56,733 INFO sqlalchemy.engine.Engine COMMIT\n"
     ]
    }
   ],
   "source": [
    "session.add_all([user1, user2, user3, user4, user5])\n",
    "session.commit()"
   ]
  },
  {
   "cell_type": "code",
   "execution_count": 94,
   "metadata": {},
   "outputs": [
    {
     "name": "stdout",
     "output_type": "stream",
     "text": [
      "2024-01-21 09:36:16,226 INFO sqlalchemy.engine.Engine SELECT users.id AS users_id, users.first_name AS users_first_name, users.last_name AS users_last_name, users.age AS users_age \n",
      "FROM users\n",
      "2024-01-21 09:36:16,243 INFO sqlalchemy.engine.Engine [cached since 115s ago] ()\n",
      "Jan Kowalski 34\n",
      "Adam Nowak 23\n",
      "Anna Kowalska 45\n",
      "Jan Nowak 12\n",
      "Adam Kowalski 56\n",
      "2024-01-21 09:36:16,256 INFO sqlalchemy.engine.Engine ROLLBACK\n"
     ]
    }
   ],
   "source": [
    "query = session.query(User).all()\n",
    "\n",
    "for user in query:\n",
    "    print(user.first_name, user.last_name, user.age)\n",
    "\n",
    "session.close()"
   ]
  },
  {
   "cell_type": "code",
   "execution_count": 100,
   "metadata": {},
   "outputs": [],
   "source": [
    "def add_user(session:Session, last_name:str, first_name:str, age:int):\n",
    "    new_user = User(first_name=first_name, last_name=last_name, age=age)\n",
    "    session.add(new_user)\n",
    "    session.commit()\n",
    "\n",
    "def display_all_users(session:Session):\n",
    "    query = session.query(User).all()\n",
    "    for user in query:\n",
    "        print(user.id, user.first_name, user.last_name, user.age)\n",
    "\n",
    "def display_users_by_age(session:Session, age:int):\n",
    "    query = session.query(User).filter(User.age == age).all()\n",
    "    if query:\n",
    "        for user in query:\n",
    "            print(user.id, user.first_name, user.last_name, user.age)\n",
    "    else:\n",
    "        print('Brak użytkowników o podanym wieku')"
   ]
  },
  {
   "cell_type": "code",
   "execution_count": 101,
   "metadata": {},
   "outputs": [
    {
     "name": "stdout",
     "output_type": "stream",
     "text": [
      "2024-01-21 09:50:52,577 INFO sqlalchemy.engine.Engine BEGIN (implicit)\n",
      "2024-01-21 09:50:52,581 INFO sqlalchemy.engine.Engine PRAGMA main.table_info(\"users\")\n",
      "2024-01-21 09:50:52,582 INFO sqlalchemy.engine.Engine [raw sql] ()\n",
      "2024-01-21 09:50:52,585 INFO sqlalchemy.engine.Engine PRAGMA main.table_info(\"books\")\n",
      "2024-01-21 09:50:52,586 INFO sqlalchemy.engine.Engine [raw sql] ()\n",
      "2024-01-21 09:50:52,587 INFO sqlalchemy.engine.Engine PRAGMA temp.table_info(\"books\")\n",
      "2024-01-21 09:50:52,587 INFO sqlalchemy.engine.Engine [raw sql] ()\n",
      "2024-01-21 09:50:52,589 INFO sqlalchemy.engine.Engine \n",
      "CREATE TABLE books (\n",
      "\tid INTEGER NOT NULL, \n",
      "\ttitle VARCHAR, \n",
      "\tauthor VARCHAR, \n",
      "\tpublished_year INTEGER, \n",
      "\tisbn INTEGER, \n",
      "\tPRIMARY KEY (id)\n",
      ")\n",
      "\n",
      "\n",
      "2024-01-21 09:50:52,590 INFO sqlalchemy.engine.Engine [no key 0.00094s] ()\n",
      "2024-01-21 09:50:52,591 INFO sqlalchemy.engine.Engine COMMIT\n",
      "2024-01-21 09:50:52,607 INFO sqlalchemy.engine.Engine BEGIN (implicit)\n",
      "2024-01-21 09:50:52,610 INFO sqlalchemy.engine.Engine INSERT INTO books (title, author, published_year, isbn) VALUES (?, ?, ?, ?)\n",
      "2024-01-21 09:50:52,611 INFO sqlalchemy.engine.Engine [generated in 0.00085s] ('Pan Tadeusz', 'Adam Mickiewicz', 1834, 123456789)\n",
      "2024-01-21 09:50:52,612 INFO sqlalchemy.engine.Engine INSERT INTO books (title, author, published_year, isbn) VALUES (?, ?, ?, ?)\n",
      "2024-01-21 09:50:52,613 INFO sqlalchemy.engine.Engine [cached since 0.00311s ago] ('Dziady', 'Adam Mickiewicz', 1832, 123456788)\n",
      "2024-01-21 09:50:52,614 INFO sqlalchemy.engine.Engine INSERT INTO books (title, author, published_year, isbn) VALUES (?, ?, ?, ?)\n",
      "2024-01-21 09:50:52,614 INFO sqlalchemy.engine.Engine [cached since 0.004292s ago] ('Lalka', 'Bolesław Prus', 1890, 123456787)\n",
      "2024-01-21 09:50:52,615 INFO sqlalchemy.engine.Engine INSERT INTO books (title, author, published_year, isbn) VALUES (?, ?, ?, ?)\n",
      "2024-01-21 09:50:52,615 INFO sqlalchemy.engine.Engine [cached since 0.00551s ago] ('Chłopi', 'Władysław Reymont', 1904, 123456786)\n",
      "2024-01-21 09:50:52,615 INFO sqlalchemy.engine.Engine INSERT INTO books (title, author, published_year, isbn) VALUES (?, ?, ?, ?)\n",
      "2024-01-21 09:50:52,616 INFO sqlalchemy.engine.Engine [cached since 0.006086s ago] ('Lalka', 'Bolesław Prus', 1890, 123456787)\n",
      "2024-01-21 09:50:52,617 INFO sqlalchemy.engine.Engine COMMIT\n"
     ]
    }
   ],
   "source": [
    "class Book(Base):\n",
    "    __tablename__ = 'books'\n",
    "\n",
    "    id = Column(Integer, primary_key=True)\n",
    "    title = Column(String)\n",
    "    author = Column(String)\n",
    "    published_year = Column(Integer)\n",
    "    isbn = Column(Integer)\n",
    "\n",
    "Base.metadata.create_all(engine)\n",
    "\n",
    "Session = sessionmaker(bind=engine)\n",
    "session = Session()\n",
    "book1 = Book(title='Pan Tadeusz', author='Adam Mickiewicz', published_year=1834, isbn=123456789)\n",
    "book2 = Book(title='Dziady', author='Adam Mickiewicz', published_year=1832, isbn=123456788)\n",
    "book3 = Book(title='Lalka', author='Bolesław Prus', published_year=1890, isbn=123456787)\n",
    "book4 = Book(title='Chłopi', author='Władysław Reymont', published_year=1904, isbn=123456786)\n",
    "book5 = Book(title='Lalka', author='Bolesław Prus', published_year=1890, isbn=123456787)\n",
    "\n",
    "session.add_all([book1, book2, book3, book4, book5])\n",
    "session.commit()\n",
    "\n",
    "#funkcja na pobranie wszystkich książek\n",
    "def display_all_books(session:Session):\n",
    "    query = session.query(Book).all()\n",
    "    for book in query:\n",
    "        print(book.id, book.title, book.author, book.published_year, book.isbn)\n",
    "\n",
    "#funkcja na dodanie książki\n",
    "def add_book(session:Session, title:str, author:str, published_year:int, isbn:int):\n",
    "    new_book = Book(title=title, author=author, published_year=published_year, isbn=isbn)\n",
    "    session.add(new_book)\n",
    "    session.commit()\n",
    "\n",
    "#funkcja na zaaktualizowanie danych książki\n",
    "def update_book(session:Session, id:int, title:str, author:str, published_year:int, isbn:int):\n",
    "    book = session.query(Book).filter(Book.id == id).first()\n",
    "    book.title = title\n",
    "    book.author = author\n",
    "    book.published_year = published_year\n",
    "    book.isbn = isbn\n",
    "    session.commit()\n",
    "\n",
    "#funkcja na usunięcie książki\n",
    "def delete_book(session:Session, id:int):\n",
    "    book = session.query(Book).filter(Book.id == id).first()\n",
    "    session.delete(book)\n",
    "    session.commit()\n",
    "    \n"
   ]
  },
  {
   "cell_type": "code",
   "execution_count": null,
   "metadata": {},
   "outputs": [],
   "source": []
  }
 ],
 "metadata": {
  "kernelspec": {
   "display_name": "base",
   "language": "python",
   "name": "python3"
  },
  "language_info": {
   "codemirror_mode": {
    "name": "ipython",
    "version": 3
   },
   "file_extension": ".py",
   "mimetype": "text/x-python",
   "name": "python",
   "nbconvert_exporter": "python",
   "pygments_lexer": "ipython3",
   "version": "3.11.5"
  }
 },
 "nbformat": 4,
 "nbformat_minor": 2
}
