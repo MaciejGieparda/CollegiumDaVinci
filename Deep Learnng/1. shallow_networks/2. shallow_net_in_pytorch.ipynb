{
  "cells": [
    {
      "cell_type": "markdown",
      "metadata": {
        "id": "LcrCNS6jc5-e"
      },
      "source": [
        "# Płytka sieć neuronowa w PyTorch"
      ]
    },
    {
      "cell_type": "code",
      "source": [
        "!pip install torch torchsummary torchvision matplotlib"
      ],
      "metadata": {
        "id": "kETzVj_NvXuG"
      },
      "execution_count": null,
      "outputs": []
    },
    {
      "cell_type": "markdown",
      "metadata": {
        "id": "mEygUgLVKJ7x"
      },
      "source": [
        "### Zaimportujmy zależności"
      ]
    },
    {
      "cell_type": "code",
      "execution_count": null,
      "metadata": {
        "id": "nfFVh41odSXB"
      },
      "outputs": [],
      "source": [
        "import torch\n",
        "import torch.nn as nn\n",
        "from torchvision.datasets import MNIST\n",
        "from torchvision import transforms\n",
        "from torchsummary import summary\n",
        "import matplotlib.pyplot as plt"
      ]
    },
    {
      "cell_type": "markdown",
      "metadata": {
        "id": "6QCoX-S6dj54"
      },
      "source": [
        "### Załadujmy dane i od razu przeskalujmy (funkcja ToTensor konwertuje piksele z [0,255] na [0,1])"
      ]
    },
    {
      "cell_type": "code",
      "execution_count": null,
      "metadata": {
        "id": "UXk2_Pazef4W"
      },
      "outputs": [],
      "source": [
        "train = MNIST('data', train=True, transform=transforms.ToTensor(), download=True)\n",
        "test = MNIST('data', train=False, transform=transforms.ToTensor())"
      ]
    },
    {
      "cell_type": "markdown",
      "metadata": {
        "id": "9AyP6gUqu4qc"
      },
      "source": [
        "### Sprawdźmy jak wyglądają dane"
      ]
    },
    {
      "cell_type": "code",
      "execution_count": null,
      "metadata": {
        "id": "EdMVpcOHetgf"
      },
      "outputs": [],
      "source": [
        "train.data.shape"
      ]
    },
    {
      "cell_type": "code",
      "execution_count": null,
      "metadata": {
        "id": "dBIyReX1u4qe"
      },
      "outputs": [],
      "source": [
        "train"
      ]
    },
    {
      "cell_type": "code",
      "execution_count": null,
      "metadata": {
        "id": "yZ8hKPF6exuw"
      },
      "outputs": [],
      "source": [
        "train.data[0]"
      ]
    },
    {
      "cell_type": "markdown",
      "metadata": {
        "id": "9rbTVhcUu4qh"
      },
      "source": [
        "### Zobaczmy konkretne wartości"
      ]
    },
    {
      "cell_type": "code",
      "execution_count": null,
      "metadata": {
        "id": "vzITvYebe6NQ"
      },
      "outputs": [],
      "source": [
        "plt.imshow(train.data[0].numpy().squeeze(), cmap='gray_r')"
      ]
    },
    {
      "cell_type": "code",
      "execution_count": null,
      "metadata": {
        "id": "kf4i8Q09fCpw"
      },
      "outputs": [],
      "source": [
        "train.targets[0:100]"
      ]
    },
    {
      "cell_type": "code",
      "execution_count": null,
      "metadata": {
        "id": "e6d0sd_8fQPH"
      },
      "outputs": [],
      "source": [
        "train.targets.shape"
      ]
    },
    {
      "cell_type": "code",
      "execution_count": null,
      "metadata": {
        "id": "0qST6tDffR9v"
      },
      "outputs": [],
      "source": [
        "test.data.shape"
      ]
    },
    {
      "cell_type": "code",
      "execution_count": null,
      "metadata": {
        "id": "WyPpoB3dfiwo"
      },
      "outputs": [],
      "source": [
        "test.targets.shape"
      ]
    },
    {
      "cell_type": "markdown",
      "metadata": {
        "id": "yYMXOGJvfkCo"
      },
      "source": [
        "### Popaczkujmy zbiór danych z wykorzystaniem klasy DataLoader i przejrzyjmy paczki"
      ]
    },
    {
      "cell_type": "code",
      "execution_count": null,
      "metadata": {
        "id": "8IySNK8Ef6Eq"
      },
      "outputs": [],
      "source": [
        "train_loader = torch.utils.data.DataLoader(train, batch_size=128, shuffle=True)\n",
        "test_loader = torch.utils.data.DataLoader(test, batch_size=128)"
      ]
    },
    {
      "cell_type": "code",
      "execution_count": null,
      "metadata": {
        "id": "8LCaiwRSu4ql"
      },
      "outputs": [],
      "source": [
        "n_batches = len(train_loader)\n",
        "n_batches"
      ]
    },
    {
      "cell_type": "code",
      "execution_count": null,
      "metadata": {
        "id": "hUI-HJLKu4qm"
      },
      "outputs": [],
      "source": [
        "n_test_batches = len(test_loader)\n",
        "n_test_batches"
      ]
    },
    {
      "cell_type": "code",
      "execution_count": null,
      "metadata": {
        "id": "SLfWTrjshEsh"
      },
      "outputs": [],
      "source": [
        "X_sample, y_sample = next(iter(train_loader))"
      ]
    },
    {
      "cell_type": "code",
      "execution_count": null,
      "metadata": {
        "id": "5fc-M4JCiRTW"
      },
      "outputs": [],
      "source": [
        "X_sample.shape"
      ]
    },
    {
      "cell_type": "code",
      "execution_count": null,
      "metadata": {
        "id": "2TCZnZR-iWvo"
      },
      "outputs": [],
      "source": [
        "y_sample.shape"
      ]
    },
    {
      "cell_type": "code",
      "execution_count": null,
      "metadata": {
        "id": "8uk1_iPDiXR7"
      },
      "outputs": [],
      "source": [
        "y_sample"
      ]
    },
    {
      "cell_type": "code",
      "execution_count": null,
      "metadata": {
        "id": "Sf4z56RKi1ja"
      },
      "outputs": [],
      "source": [
        "X_sample[0]"
      ]
    },
    {
      "cell_type": "markdown",
      "metadata": {
        "id": "a6Cy7GDYu4qo"
      },
      "source": [
        "### Spłaszczamy paczkę\n",
        "(niespodzianie służy do tego funkcja .view())"
      ]
    },
    {
      "cell_type": "code",
      "execution_count": null,
      "metadata": {
        "id": "zlj29yCske1c"
      },
      "outputs": [],
      "source": [
        "X_flat_sample = X_sample.view(X_sample.shape[0], -1)"
      ]
    },
    {
      "cell_type": "code",
      "execution_count": null,
      "metadata": {
        "id": "8VtnEEvLi4UD"
      },
      "outputs": [],
      "source": [
        "X_flat_sample.shape"
      ]
    },
    {
      "cell_type": "code",
      "execution_count": null,
      "metadata": {
        "id": "Koet4ZSgkSHu"
      },
      "outputs": [],
      "source": [
        "X_flat_sample[0]"
      ]
    },
    {
      "cell_type": "markdown",
      "metadata": {
        "id": "s-lTFFhdkogC"
      },
      "source": [
        "### Czas na zaprojektowanie architektury sieci"
      ]
    },
    {
      "cell_type": "markdown",
      "metadata": {
        "id": "U3pw6Fv5u4qq"
      },
      "source": [
        "PyTorch opiera się na modułach (obiektach klasy `torch.nn.Module`), które są łączone w graf obliczeń. Moduły mogą wykorzystywać parametry (obiekty klasy `torch.nn.Parameter`), dla których mogą być automatycznie liczone gradienty i które mogą podlegać optymalizacji."
      ]
    },
    {
      "cell_type": "markdown",
      "metadata": {
        "id": "yRXZXriru4qq"
      },
      "source": [
        "**Zadanie 3a. Zadeklaruj odpowiedni rozmiar wejścia i wyjścia tak, by warstwa wejściowa przyjęła pojedynczo wszystkie piksele obrazka, a warstwa wyjściowa mogła reprezentować każdą z klas**"
      ]
    },
    {
      "cell_type": "code",
      "execution_count": null,
      "metadata": {
        "id": "mkwmSP10k8Y7"
      },
      "outputs": [],
      "source": [
        "n_input = ...\n",
        "n_dense = 64\n",
        "n_out = ..."
      ]
    },
    {
      "cell_type": "markdown",
      "metadata": {
        "id": "WlhcSQaxu4qr"
      },
      "source": [
        "Tworzymy model, składający się z sekwencji warstw: wejściowej warstwy liniowej czyli warstwy implementującej operację $\\hat{y} = Wx + b$, (zwróćmy uwagę na jej liczbę wejść i wyjść), ukrytej warstwy gęstej o 64 neuronach z sigmoidalną funkcją aktywacji oraz wyjściowej warstwy liniowej (tu również zwróćmy uwagę na liczbę wejść)"
      ]
    },
    {
      "cell_type": "code",
      "execution_count": null,
      "metadata": {
        "id": "XLAYTQcrk208"
      },
      "outputs": [],
      "source": [
        "model = nn.Sequential(\n",
        "    nn.Linear(n_input, n_dense),\n",
        "    nn.Sigmoid(),\n",
        "    nn.Linear(n_dense, n_out)\n",
        ")"
      ]
    },
    {
      "cell_type": "code",
      "execution_count": null,
      "metadata": {
        "id": "ELhOOEzcmMjN"
      },
      "outputs": [],
      "source": [
        "summary(model, (1, n_input))"
      ]
    },
    {
      "cell_type": "markdown",
      "metadata": {
        "id": "ad12qUaumQNF"
      },
      "source": [
        "### Skonfigurujmy hiperparametry"
      ]
    },
    {
      "cell_type": "markdown",
      "metadata": {
        "id": "c_DjbkbBu4qs"
      },
      "source": [
        "**Zadanie 3b. Zajrzyj do dokumentacji biblioteki torch i zadeklaruj entropię skrośną (CrossEntropy) jako funkcję straty oraz SGD jako algorytm optymalizacji - z parametrami modelu jako parametrami do optymalizacji, oraz ze stałą uczenia równą 0.01**"
      ]
    },
    {
      "cell_type": "code",
      "execution_count": null,
      "metadata": {
        "id": "MApHSXQGmfdE"
      },
      "outputs": [],
      "source": [
        "cost_fxn ="
      ]
    },
    {
      "cell_type": "code",
      "execution_count": null,
      "metadata": {
        "id": "K0c1Iqnpm32m"
      },
      "outputs": [],
      "source": [
        "optimizer ="
      ]
    },
    {
      "cell_type": "markdown",
      "metadata": {
        "id": "V3836ImZnQ6_"
      },
      "source": [
        "### Zdefinujmy metrykę trafności prognozy"
      ]
    },
    {
      "cell_type": "markdown",
      "metadata": {
        "id": "VwrhsurVu4qt"
      },
      "source": [
        "**Zadanie 4a. Zdefiniuj metrykę trafności prognozy, ustawiając następujące linijki w odpowiedniej kolejności w miejscach ...**\n",
        "    \n",
        "    1. correct = (prediction == true_y).sum().item()\n",
        "    2. (correct / true_y.shape[0]) * 100.0\n",
        "    3. _, prediction = torch.max(pred_y, 1)\n"
      ]
    },
    {
      "cell_type": "code",
      "execution_count": null,
      "metadata": {
        "id": "p9iTkEv6nVHB"
      },
      "outputs": [],
      "source": [
        "def accuracy_pct(pred_y, true_y):\n",
        "    ...\n",
        "    ...\n",
        "    return ..."
      ]
    },
    {
      "cell_type": "markdown",
      "metadata": {
        "id": "Qil5uKn9u4qu"
      },
      "source": [
        "### Wreszcie nauczmy sieć\n",
        "(zwróćmy zwłaszcza uwagę na to co się dzieje w zagnieżdżonej pętli)"
      ]
    },
    {
      "cell_type": "code",
      "execution_count": null,
      "metadata": {
        "id": "ka2rxjOcnY_1"
      },
      "outputs": [],
      "source": [
        "n_epochs = 20\n",
        "\n",
        "print('Training for {} epochs. \\n'.format(n_epochs))\n",
        "\n",
        "for epoch in range(n_epochs):\n",
        "    avg_cost = 0.0\n",
        "    avg_accuracy = 0.0\n",
        "\n",
        "    for i, (X, y) in enumerate(train_loader): # enumerate() pozwala iterować po całym popaczkowanym zbiorze\n",
        "\n",
        "    # wykonujemy feed-forward:\n",
        "        X_flat = X.view(X.shape[0], -1)\n",
        "        y_hat = model(X_flat)\n",
        "        cost = cost_fxn(y_hat, y)\n",
        "        avg_cost += cost / n_batches\n",
        "\n",
        "    # propagacja wsteczna i optymalizacja poprzez algorytm spadku gradientu:\n",
        "        optimizer.zero_grad() # ustawiamy gradienty w sieci na zero;\n",
        "        cost.backward() #obliczamy i zbieramy gradienty\n",
        "        optimizer.step() #aktualizujemy wagi z wykorzystaniem zebranych gradientów\n",
        "\n",
        "    # obliczamy wartości wyznaczonej wcześniej metryki:\n",
        "        accuracy = accuracy_pct(y_hat, y)\n",
        "        avg_accuracy += accuracy / n_batches\n",
        "\n",
        "        if (i + 1) % 100 == 0:\n",
        "            print('Step {}'.format(i + 1))\n",
        "\n",
        "        print('Epoch {}/{} complete: Cost: {:.3f}, Accuracy: {:.1f}% \\n'.format(epoch + 1, n_epochs, avg_cost, avg_accuracy))\n",
        "\n",
        "print('Training complete.')"
      ]
    },
    {
      "cell_type": "markdown",
      "metadata": {
        "id": "xmUI1Z7jj0XO"
      },
      "source": [
        "### Testujemy model"
      ]
    },
    {
      "cell_type": "markdown",
      "metadata": {
        "id": "Rp8q4dk9u4qv"
      },
      "source": [
        "**Zadanie 4b. Zaimplementuj w gotowej pętli obliczanie trafności na całym zbiorze testowym z wykorzystaniem funkcji accuracy_pct**"
      ]
    },
    {
      "cell_type": "code",
      "execution_count": null,
      "metadata": {
        "id": "DPU-rP_7jtk_"
      },
      "outputs": [],
      "source": [
        "model.eval()\n",
        "\n",
        "with torch.no_grad(): # dezyaktywacja klasy autograd która oblicza pochodne i rejestruje graf wszystkich operacji wykonanych na tensorze, w tym przypadku chcemy zaoszczędzić pamięc\n",
        "    avg_test_cost = 0.0\n",
        "    avg_test_acc = 0.0\n",
        "\n",
        "    for X, y in test_loader:\n",
        "\n",
        "    # dokonujemy prognozy:\n",
        "        X_flat = X.view(X.shape[0], -1)\n",
        "        y_hat = model(X_flat)\n",
        "\n",
        "    # obliczamy koszt:\n",
        "        cost = cost_fxn(y_hat, y)\n",
        "        avg_test_cost += cost / n_test_batches\n",
        "\n",
        "    # tu odpowiedź - obliczamy trafność:\n",
        "        test_accuracy =\n",
        "        avg_test_acc +=\n",
        "\n",
        "print('Test cost: {:.3f}, Test accuracy: {:.1f}%'.format(avg_test_cost, avg_test_acc))"
      ]
    },
    {
      "cell_type": "markdown",
      "metadata": {
        "id": "S4Nvy_8Hu4qv"
      },
      "source": [
        "### Wizualizacja"
      ]
    },
    {
      "cell_type": "markdown",
      "metadata": {
        "id": "dEB0wGVmu4qw"
      },
      "source": [
        "**Zadanie 5. Za pomocą dowolnej biblioteki wizualizacji przygotuj 2 wykresy/diagramy/histogramy ilustrujące zebrane wyniki wraz z opisem jakich informacji dostarczają przygotowane wykresy**"
      ]
    },
    {
      "cell_type": "code",
      "execution_count": null,
      "metadata": {
        "id": "lIRcUvebu4qw"
      },
      "outputs": [],
      "source": []
    }
  ],
  "metadata": {
    "accelerator": "TPU",
    "colab": {
      "provenance": []
    },
    "kernelspec": {
      "display_name": "Python 3 (ipykernel)",
      "language": "python",
      "name": "python3"
    },
    "language_info": {
      "codemirror_mode": {
        "name": "ipython",
        "version": 3
      },
      "file_extension": ".py",
      "mimetype": "text/x-python",
      "name": "python",
      "nbconvert_exporter": "python",
      "pygments_lexer": "ipython3",
      "version": "3.11.6"
    }
  },
  "nbformat": 4,
  "nbformat_minor": 0
}