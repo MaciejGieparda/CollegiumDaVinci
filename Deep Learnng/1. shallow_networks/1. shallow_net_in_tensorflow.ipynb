{
  "cells": [
    {
      "cell_type": "markdown",
      "metadata": {
        "id": "yXe7qqFO6_a0"
      },
      "source": [
        "# Płytka sieć w TensorFlow"
      ]
    },
    {
      "cell_type": "markdown",
      "metadata": {
        "id": "jmuNn2tq6_a3"
      },
      "source": [
        "Konstruowanie płytkiej sieci neuronowej klasyfikującej ręcznie pisane litery"
      ]
    },
    {
      "cell_type": "markdown",
      "metadata": {
        "id": "M6eugsh9uhi1"
      },
      "source": [
        "### (opcjonalnie) najpierw zainstalujmy tensorflowa..."
      ]
    },
    {
      "cell_type": "code",
      "execution_count": null,
      "metadata": {
        "id": "9_MLR8oeuhi2"
      },
      "outputs": [],
      "source": [
        "!pip install tensorflow matplotlib"
      ]
    },
    {
      "cell_type": "markdown",
      "metadata": {
        "id": "N3UVHR0h6_a3"
      },
      "source": [
        "### Import zależności (na wstępie ładujemy tensorboarda)"
      ]
    },
    {
      "cell_type": "code",
      "execution_count": null,
      "metadata": {
        "id": "q3D0fOWA6_a3",
        "scrolled": true
      },
      "outputs": [],
      "source": [
        "%load_ext tensorboard\n",
        "import tensorflow\n",
        "from tensorflow.keras.datasets import mnist\n",
        "from tensorflow.keras.utils import to_categorical\n",
        "from tensorflow.keras.models import Sequential\n",
        "from tensorflow.keras.layers import Dense\n",
        "from tensorflow.keras.optimizers import SGD\n",
        "from matplotlib import pyplot as plt"
      ]
    },
    {
      "cell_type": "markdown",
      "metadata": {
        "id": "ylXl_LZW6_a4"
      },
      "source": [
        "### Wczytajmy obrazy ze zbioru MNIST"
      ]
    },
    {
      "cell_type": "code",
      "execution_count": null,
      "metadata": {
        "id": "_ul223LE6_a5",
        "scrolled": true
      },
      "outputs": [],
      "source": [
        "(X_train, y_train), (X_valid, y_valid) = mnist.load_data()"
      ]
    },
    {
      "cell_type": "markdown",
      "metadata": {
        "id": "_Fvs8cE5uhi8"
      },
      "source": [
        "### Sprawdźmy podstawowe cechy zbioru danych"
      ]
    },
    {
      "cell_type": "code",
      "execution_count": null,
      "metadata": {
        "id": "emvpQ-bf6_a5"
      },
      "outputs": [],
      "source": [
        "X_train.shape"
      ]
    },
    {
      "cell_type": "code",
      "execution_count": null,
      "metadata": {
        "id": "7OxM-LzU6_a6"
      },
      "outputs": [],
      "source": [
        "y_train.shape"
      ]
    },
    {
      "cell_type": "code",
      "execution_count": null,
      "metadata": {
        "id": "AjloksfO6_a6"
      },
      "outputs": [],
      "source": [
        "y_train[0:12]"
      ]
    },
    {
      "cell_type": "code",
      "execution_count": null,
      "metadata": {
        "id": "gx6O9yaZuhi_"
      },
      "outputs": [],
      "source": [
        "X_valid.shape"
      ]
    },
    {
      "cell_type": "code",
      "execution_count": null,
      "metadata": {
        "id": "LMzHlF5tuhjA"
      },
      "outputs": [],
      "source": [
        "y_valid.shape"
      ]
    },
    {
      "cell_type": "markdown",
      "metadata": {
        "id": "YQCmEQj4uhjA"
      },
      "source": [
        "### Przejrzyjmy konkretne elementy zbioru danych"
      ]
    },
    {
      "cell_type": "code",
      "execution_count": null,
      "metadata": {
        "id": "6ogokP4I6_a6"
      },
      "outputs": [],
      "source": [
        "plt.figure(figsize=(5,5))\n",
        "for k in range(12):\n",
        "    plt.subplot(3, 4, k+1)\n",
        "    plt.imshow(X_train[k], cmap='Greys')\n",
        "    plt.axis('off')\n",
        "plt.tight_layout()\n",
        "plt.show()"
      ]
    },
    {
      "cell_type": "code",
      "execution_count": null,
      "metadata": {
        "id": "yIgMMMu-6_a7"
      },
      "outputs": [],
      "source": [
        "_ = plt.imshow(X_valid[0], cmap='Greys')"
      ]
    },
    {
      "cell_type": "code",
      "execution_count": null,
      "metadata": {
        "id": "dG7hy3fG6_a8"
      },
      "outputs": [],
      "source": [
        "X_valid[0]"
      ]
    },
    {
      "cell_type": "markdown",
      "metadata": {
        "id": "CqUh22wHuhjB"
      },
      "source": [
        "**Zadanie 1a. Co reprezentują liczby w powyższej tablicy?**"
      ]
    },
    {
      "cell_type": "markdown",
      "metadata": {
        "id": "p9dgAumLuhjC"
      },
      "source": [
        "tu odpowiedź"
      ]
    },
    {
      "cell_type": "code",
      "execution_count": null,
      "metadata": {
        "id": "fAR385d56_a8"
      },
      "outputs": [],
      "source": [
        "y_valid[0]"
      ]
    },
    {
      "cell_type": "markdown",
      "metadata": {
        "id": "QCYuT40d6_a8"
      },
      "source": [
        "### Wykonajmy preprocessing danych"
      ]
    },
    {
      "cell_type": "markdown",
      "metadata": {
        "id": "X7q36m6-uhjC"
      },
      "source": [
        "Dokonamy zmiany postaci każdego dwuwymiarowego obrazka w jednowymiarową tablicę o rozmiarze równym liczbie pikseli, jednocześnie zamienimy liczby całkowite z zadania 1 w liczby zmiennoprzecinkowe, by móc je następnie znormalizować (czyli by znajdowały się w przedziale <0,1>."
      ]
    },
    {
      "cell_type": "code",
      "execution_count": null,
      "metadata": {
        "id": "6Odu_77x6_a8"
      },
      "outputs": [],
      "source": [
        "X_train = X_train.reshape(60000, 784).astype('float32')\n",
        "X_valid = X_valid.reshape(10000, 784).astype('float32')"
      ]
    },
    {
      "cell_type": "markdown",
      "metadata": {
        "id": "vehD9NG4uhjD"
      },
      "source": [
        "**Zadanie 1b. Znormalizuj wartości w zbiorze uczącym X_train i zbiorze walidującym X_valid**"
      ]
    },
    {
      "cell_type": "code",
      "execution_count": null,
      "metadata": {
        "id": "TPz3rucK6_a9"
      },
      "outputs": [],
      "source": [
        "# tu odpowiedź"
      ]
    },
    {
      "cell_type": "code",
      "execution_count": null,
      "metadata": {
        "id": "dxLl0pCg6_a9"
      },
      "outputs": [],
      "source": [
        "X_valid[0]"
      ]
    },
    {
      "cell_type": "markdown",
      "metadata": {
        "id": "BOmlcvPUuhjE"
      },
      "source": [
        "Następnie deklarujemy liczbę możliwych klas i konwertujemy etykiety na kategorie poprzez tzw. one-hot encoding"
      ]
    },
    {
      "cell_type": "code",
      "execution_count": null,
      "metadata": {
        "id": "tv3n3itV6_a9"
      },
      "outputs": [],
      "source": [
        "n_classes = 10\n",
        "y_train = to_categorical(y_train, n_classes)\n",
        "y_valid = to_categorical(y_valid, n_classes)"
      ]
    },
    {
      "cell_type": "code",
      "execution_count": null,
      "metadata": {
        "id": "NYkE_jXi6_a9"
      },
      "outputs": [],
      "source": [
        "y_valid[0]"
      ]
    },
    {
      "cell_type": "markdown",
      "metadata": {
        "id": "IKupjM0z6_a9"
      },
      "source": [
        "### Zaprojektujmy architekturę sieci"
      ]
    },
    {
      "cell_type": "code",
      "execution_count": null,
      "metadata": {
        "id": "1KkhUt-m6_a-"
      },
      "outputs": [],
      "source": [
        "model = Sequential()\n",
        "model.add(Dense(64, activation='sigmoid', input_shape=(784,)))\n",
        "model.add(Dense(10, activation='softmax'))"
      ]
    },
    {
      "cell_type": "markdown",
      "metadata": {
        "id": "_lcuFTnFuhjF"
      },
      "source": [
        "Sieć ma 3 warstwy:\n",
        "\n",
        "    - wejściową o 784 neuronach, po jednym dla każdego piksela obrazu\n",
        "    \n",
        "    - ukrytą warstwą gęstą (inaczej mówiąc - w pełni połączoną, w której wszystkie neurony połączone są ze wszystkimi z warstwy wcześniejszej), zbudowaną z 64 neuronów sigmoidalnych\n",
        "    \n",
        "    - wyjściową, również gęstą, zbudowaną z 10-neuronowej warstwy softmax, po jednym dla każdej kategorii cyfr (0-9)"
      ]
    },
    {
      "cell_type": "code",
      "execution_count": null,
      "metadata": {
        "id": "d1__QwQt6_a-"
      },
      "outputs": [],
      "source": [
        "model.summary()"
      ]
    },
    {
      "cell_type": "markdown",
      "metadata": {
        "id": "KTr0IRoNuhjG"
      },
      "source": [
        "**Zadanie 1c. Wyjaśnij podaną w podsumowaniu modelu liczbę parametrów warstw: 50240 i 650**"
      ]
    },
    {
      "cell_type": "markdown",
      "metadata": {
        "id": "I_DlTN-PuhjG"
      },
      "source": [
        "tu odpowiedź"
      ]
    },
    {
      "cell_type": "markdown",
      "metadata": {
        "id": "2TSjHfhi6_a-"
      },
      "source": [
        "### Skompilujmy i skonfigurujmy przygotowany model"
      ]
    },
    {
      "cell_type": "code",
      "execution_count": null,
      "metadata": {
        "id": "85zcA6okuhjG"
      },
      "outputs": [],
      "source": [
        "lr = 0.01"
      ]
    },
    {
      "cell_type": "code",
      "execution_count": null,
      "metadata": {
        "id": "aT02wHcd6_a-"
      },
      "outputs": [],
      "source": [
        "model.compile(loss='mean_squared_error', optimizer=SGD(learning_rate=lr), metrics=['accuracy'])"
      ]
    },
    {
      "cell_type": "markdown",
      "metadata": {
        "id": "bbgPPmM5uhjI"
      },
      "source": [
        "Sieć będzie się uczyć na bazie średniokwadrartowej funkcji straty, a metodą minimalizacji funkcji kosztu będzie SGD"
      ]
    },
    {
      "cell_type": "markdown",
      "metadata": {
        "id": "cHAkBc2muhjI"
      },
      "source": [
        "### Przygotujmy środowisko tensorboard do wizualizacji wyników"
      ]
    },
    {
      "cell_type": "code",
      "execution_count": null,
      "metadata": {
        "id": "UJJMcpvKuhjI"
      },
      "outputs": [],
      "source": [
        "import datetime\n",
        "log_dir = \"logs/fit/\" + datetime.datetime.now().strftime(\"%Y%m%d-%H%M%S\") # tworzymy lokalizację, w której utworzą się logi\n",
        "tensorboard_callback = tensorflow.keras.callbacks.TensorBoard(log_dir=log_dir, histogram_freq=1) # tensorboard jest dodany do procesu uczenia jako callback"
      ]
    },
    {
      "cell_type": "markdown",
      "metadata": {
        "id": "hF4I2Zou6_a-"
      },
      "source": [
        "### W końcu nauczmy sieć"
      ]
    },
    {
      "cell_type": "markdown",
      "metadata": {
        "id": "CUv3zjpsuhjJ"
      },
      "source": [
        "Wykorzystujemy dane wejściowe treningowe X_train i powiązane etykiety y_train, uczymy w 200 epokach (200 przejść przez wszystkie dane uczące), na 128-obrazkowych paczkach, skuteczność uczenia sprawdzamy już w trakcie uczenia poprzez podanie zbioru walidującego. Chcemy otrzymać wszystkie informacje w trakcie uczenia, stąd argument verbose otrzymuje wartość 1."
      ]
    },
    {
      "cell_type": "code",
      "execution_count": null,
      "metadata": {
        "id": "DRWqGssx6_a_",
        "scrolled": true
      },
      "outputs": [],
      "source": [
        "model.fit(X_train, y_train, batch_size=128, epochs=200, verbose=1, validation_data=(X_valid, y_valid), callbacks=[tensorboard_callback])"
      ]
    },
    {
      "cell_type": "markdown",
      "metadata": {
        "id": "eFFJFRyv6_a_"
      },
      "source": [
        "### Dokonajmy ewaluacji modelu na zbiorze walidacyjnym"
      ]
    },
    {
      "cell_type": "code",
      "execution_count": null,
      "metadata": {
        "id": "Mi8oSUj06_a_"
      },
      "outputs": [],
      "source": [
        "model.evaluate(X_valid, y_valid)"
      ]
    },
    {
      "cell_type": "markdown",
      "metadata": {
        "id": "FMv0PT52uhjJ"
      },
      "source": [
        "### Możesz spróbować pozmieniać rozmiar batcha, learning_rate, liczbę neuronów w ukrytej wartwie gęstej (lub nawet optymalizator) i podzielić się zauważkami czy przyniosło to jakąś poprawę lub pogorszenie działania sieci"
      ]
    },
    {
      "cell_type": "markdown",
      "metadata": {
        "id": "ifx_imAXuhjJ"
      },
      "source": [
        "tu odpowiedź (opcjonalnie)"
      ]
    },
    {
      "cell_type": "markdown",
      "metadata": {
        "id": "RbRWT4N5uhjK"
      },
      "source": [
        "### Zwizualizujmy parametry działania sieci w tensorboardzie"
      ]
    },
    {
      "cell_type": "code",
      "execution_count": null,
      "metadata": {
        "id": "3MUcoTT6uhjK"
      },
      "outputs": [],
      "source": [
        "%tensorboard --logdir logs/fit --bind_all"
      ]
    },
    {
      "cell_type": "markdown",
      "metadata": {
        "id": "m5kN0zO56_a_"
      },
      "source": [
        "### Sprawdźmy jak dokładnie model działa na pojedynczych przypadkach"
      ]
    },
    {
      "cell_type": "markdown",
      "metadata": {
        "id": "vYOM6SaluhjL"
      },
      "source": [
        "w tym celu wyciągamy jedną z próbek (jeden z obrazów) ze zbioru walidacyjnego i wykonujemy na niej metodę prognozującą predict"
      ]
    },
    {
      "cell_type": "code",
      "execution_count": null,
      "metadata": {
        "id": "-i_2NQrm6_a_"
      },
      "outputs": [],
      "source": [
        "valid_0 = X_valid[0].reshape(1, 784)"
      ]
    },
    {
      "cell_type": "code",
      "execution_count": null,
      "metadata": {
        "id": "1uDQLTJv6_a_"
      },
      "outputs": [],
      "source": [
        "model.predict(valid_0)"
      ]
    },
    {
      "cell_type": "markdown",
      "metadata": {
        "id": "pYzY2I2buhjL"
      },
      "source": [
        "**Zadanie 2a. Co oznaczają wartości znajdujące się w powyższej tablicy i jaka będzie w związku z tym prognoza co do cyfry na obrazie w tej próbce?**"
      ]
    },
    {
      "cell_type": "markdown",
      "metadata": {
        "id": "9Aenb5XIuhjL"
      },
      "source": [
        "tu odpowiedź"
      ]
    },
    {
      "cell_type": "markdown",
      "metadata": {
        "id": "MJsRwaRMuhjM"
      },
      "source": [
        "**Zadanie 2b. Napisz kod sprawdzający - dla każdego rodzaju cyfry oddzielnie - jaką średnią pewność miała sieć, gdy stwierdzała że na obrazku występuje dana cyfra, niezależnie od tego czy poprawnie rozpoznała czy nie (nie musi być cały zbiór, wystarczy 500 pierwszych elementów). Chodzi o to by zobaczyć, która cyfra dla sieci jest najłatwiejsza do rozpoznania**"
      ]
    },
    {
      "cell_type": "code",
      "execution_count": null,
      "metadata": {
        "id": "3oXVqUWSuhjM"
      },
      "outputs": [],
      "source": []
    }
  ],
  "metadata": {
    "colab": {
      "provenance": []
    },
    "kernelspec": {
      "display_name": "Python 3 (ipykernel)",
      "language": "python",
      "name": "python3"
    },
    "language_info": {
      "codemirror_mode": {
        "name": "ipython",
        "version": 3
      },
      "file_extension": ".py",
      "mimetype": "text/x-python",
      "name": "python",
      "nbconvert_exporter": "python",
      "pygments_lexer": "ipython3",
      "version": "3.11.6"
    }
  },
  "nbformat": 4,
  "nbformat_minor": 0
}