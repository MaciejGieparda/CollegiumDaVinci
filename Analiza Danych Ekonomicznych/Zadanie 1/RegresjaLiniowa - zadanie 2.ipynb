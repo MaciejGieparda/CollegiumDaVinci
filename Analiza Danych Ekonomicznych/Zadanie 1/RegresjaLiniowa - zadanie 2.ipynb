{
 "cells": [
  {
   "cell_type": "markdown",
   "metadata": {},
   "source": [
    "Powtórz kroki przedstawione na omawianych wcześniej slajdach dla bazy danych place.csv\n",
    "\n",
    "Sprawdź dane pod kątem jakościowym\n",
    "Wyczyść bazę danych z niepotrzebnych wartości\n",
    "Stwórz wykres rozrzutu dla lata nauki a wiek lub doświadczenie\n",
    "a) ogólny\n",
    "b) z podziałem na grupy np. stan cywilny\n",
    "Oszacuj model regresji liniowej dla więcej niż 1 zmiennej\n",
    "Przedstaw prostą regresji na wykresie\n",
    "Podaj ostateczną postać modelu, opisz wnioski"
   ]
  },
  {
   "cell_type": "code",
   "execution_count": 25,
   "metadata": {},
   "outputs": [],
   "source": [
    "#import libraries\n",
    "import numpy as np\n",
    "import pandas as pd\n",
    "import matplotlib.pyplot as plt\n",
    "import seaborn as sns\n",
    "\n",
    "#Linear Regression\n",
    "from sklearn.linear_model import LinearRegression\n",
    "from sklearn.model_selection import train_test_split\n",
    "from sklearn.metrics import mean_squared_error, r2_score"
   ]
  },
  {
   "cell_type": "code",
   "execution_count": 26,
   "metadata": {},
   "outputs": [
    {
     "data": {
      "text/html": [
       "<div>\n",
       "<style scoped>\n",
       "    .dataframe tbody tr th:only-of-type {\n",
       "        vertical-align: middle;\n",
       "    }\n",
       "\n",
       "    .dataframe tbody tr th {\n",
       "        vertical-align: top;\n",
       "    }\n",
       "\n",
       "    .dataframe thead th {\n",
       "        text-align: right;\n",
       "    }\n",
       "</style>\n",
       "<table border=\"1\" class=\"dataframe\">\n",
       "  <thead>\n",
       "    <tr style=\"text-align: right;\">\n",
       "      <th></th>\n",
       "      <th>ID</th>\n",
       "      <th>Placa</th>\n",
       "      <th>Zawod</th>\n",
       "      <th>Sektor</th>\n",
       "      <th>Czlonek zwiazku</th>\n",
       "      <th>Wyksztalcenie</th>\n",
       "      <th>Doswiadczenie</th>\n",
       "      <th>Wiek</th>\n",
       "      <th>Plec</th>\n",
       "      <th>Stan cywilny</th>\n",
       "      <th>Rasa</th>\n",
       "      <th>Poludnie</th>\n",
       "    </tr>\n",
       "  </thead>\n",
       "  <tbody>\n",
       "    <tr>\n",
       "      <th>0</th>\n",
       "      <td>1.0</td>\n",
       "      <td>5.10</td>\n",
       "      <td>6.0</td>\n",
       "      <td>1.0</td>\n",
       "      <td>0.0</td>\n",
       "      <td>8.0</td>\n",
       "      <td>21.0</td>\n",
       "      <td>35.0</td>\n",
       "      <td>1.0</td>\n",
       "      <td>1.0</td>\n",
       "      <td>2.0</td>\n",
       "      <td>0.0</td>\n",
       "    </tr>\n",
       "    <tr>\n",
       "      <th>1</th>\n",
       "      <td>2.0</td>\n",
       "      <td>4.95</td>\n",
       "      <td>6.0</td>\n",
       "      <td>1.0</td>\n",
       "      <td>0.0</td>\n",
       "      <td>9.0</td>\n",
       "      <td>42.0</td>\n",
       "      <td>57.0</td>\n",
       "      <td>1.0</td>\n",
       "      <td>1.0</td>\n",
       "      <td>3.0</td>\n",
       "      <td>0.0</td>\n",
       "    </tr>\n",
       "    <tr>\n",
       "      <th>2</th>\n",
       "      <td>3.0</td>\n",
       "      <td>6.67</td>\n",
       "      <td>6.0</td>\n",
       "      <td>1.0</td>\n",
       "      <td>0.0</td>\n",
       "      <td>12.0</td>\n",
       "      <td>1.0</td>\n",
       "      <td>19.0</td>\n",
       "      <td>0.0</td>\n",
       "      <td>0.0</td>\n",
       "      <td>3.0</td>\n",
       "      <td>0.0</td>\n",
       "    </tr>\n",
       "    <tr>\n",
       "      <th>3</th>\n",
       "      <td>4.0</td>\n",
       "      <td>4.00</td>\n",
       "      <td>6.0</td>\n",
       "      <td>0.0</td>\n",
       "      <td>0.0</td>\n",
       "      <td>12.0</td>\n",
       "      <td>4.0</td>\n",
       "      <td>22.0</td>\n",
       "      <td>0.0</td>\n",
       "      <td>0.0</td>\n",
       "      <td>3.0</td>\n",
       "      <td>0.0</td>\n",
       "    </tr>\n",
       "    <tr>\n",
       "      <th>4</th>\n",
       "      <td>5.0</td>\n",
       "      <td>7.50</td>\n",
       "      <td>6.0</td>\n",
       "      <td>0.0</td>\n",
       "      <td>0.0</td>\n",
       "      <td>12.0</td>\n",
       "      <td>17.0</td>\n",
       "      <td>35.0</td>\n",
       "      <td>0.0</td>\n",
       "      <td>1.0</td>\n",
       "      <td>3.0</td>\n",
       "      <td>0.0</td>\n",
       "    </tr>\n",
       "  </tbody>\n",
       "</table>\n",
       "</div>"
      ],
      "text/plain": [
       "    ID  Placa  Zawod  Sektor  Czlonek zwiazku  Wyksztalcenie  Doswiadczenie  \\\n",
       "0  1.0   5.10    6.0     1.0              0.0            8.0           21.0   \n",
       "1  2.0   4.95    6.0     1.0              0.0            9.0           42.0   \n",
       "2  3.0   6.67    6.0     1.0              0.0           12.0            1.0   \n",
       "3  4.0   4.00    6.0     0.0              0.0           12.0            4.0   \n",
       "4  5.0   7.50    6.0     0.0              0.0           12.0           17.0   \n",
       "\n",
       "   Wiek  Plec  Stan cywilny  Rasa  Poludnie  \n",
       "0  35.0   1.0           1.0   2.0       0.0  \n",
       "1  57.0   1.0           1.0   3.0       0.0  \n",
       "2  19.0   0.0           0.0   3.0       0.0  \n",
       "3  22.0   0.0           0.0   3.0       0.0  \n",
       "4  35.0   0.0           1.0   3.0       0.0  "
      ]
     },
     "execution_count": 26,
     "metadata": {},
     "output_type": "execute_result"
    }
   ],
   "source": [
    "df = pd.read_csv('place.csv', sep=';')\n",
    "df.head()"
   ]
  },
  {
   "cell_type": "code",
   "execution_count": 27,
   "metadata": {},
   "outputs": [],
   "source": [
    "#drop nans\n",
    "df = df.dropna()"
   ]
  },
  {
   "cell_type": "code",
   "execution_count": 28,
   "metadata": {},
   "outputs": [
    {
     "data": {
      "text/html": [
       "<div>\n",
       "<style scoped>\n",
       "    .dataframe tbody tr th:only-of-type {\n",
       "        vertical-align: middle;\n",
       "    }\n",
       "\n",
       "    .dataframe tbody tr th {\n",
       "        vertical-align: top;\n",
       "    }\n",
       "\n",
       "    .dataframe thead th {\n",
       "        text-align: right;\n",
       "    }\n",
       "</style>\n",
       "<table border=\"1\" class=\"dataframe\">\n",
       "  <thead>\n",
       "    <tr style=\"text-align: right;\">\n",
       "      <th></th>\n",
       "      <th>Wiek</th>\n",
       "      <th>Wyksztalcenie</th>\n",
       "      <th>Doswiadczenie</th>\n",
       "      <th>Stan cywilny</th>\n",
       "      <th>Placa</th>\n",
       "    </tr>\n",
       "  </thead>\n",
       "  <tbody>\n",
       "    <tr>\n",
       "      <th>0</th>\n",
       "      <td>35.0</td>\n",
       "      <td>8.0</td>\n",
       "      <td>21.0</td>\n",
       "      <td>1.0</td>\n",
       "      <td>5.10</td>\n",
       "    </tr>\n",
       "    <tr>\n",
       "      <th>1</th>\n",
       "      <td>57.0</td>\n",
       "      <td>9.0</td>\n",
       "      <td>42.0</td>\n",
       "      <td>1.0</td>\n",
       "      <td>4.95</td>\n",
       "    </tr>\n",
       "    <tr>\n",
       "      <th>2</th>\n",
       "      <td>19.0</td>\n",
       "      <td>12.0</td>\n",
       "      <td>1.0</td>\n",
       "      <td>0.0</td>\n",
       "      <td>6.67</td>\n",
       "    </tr>\n",
       "    <tr>\n",
       "      <th>3</th>\n",
       "      <td>22.0</td>\n",
       "      <td>12.0</td>\n",
       "      <td>4.0</td>\n",
       "      <td>0.0</td>\n",
       "      <td>4.00</td>\n",
       "    </tr>\n",
       "    <tr>\n",
       "      <th>4</th>\n",
       "      <td>35.0</td>\n",
       "      <td>12.0</td>\n",
       "      <td>17.0</td>\n",
       "      <td>1.0</td>\n",
       "      <td>7.50</td>\n",
       "    </tr>\n",
       "  </tbody>\n",
       "</table>\n",
       "</div>"
      ],
      "text/plain": [
       "   Wiek  Wyksztalcenie  Doswiadczenie  Stan cywilny  Placa\n",
       "0  35.0            8.0           21.0           1.0   5.10\n",
       "1  57.0            9.0           42.0           1.0   4.95\n",
       "2  19.0           12.0            1.0           0.0   6.67\n",
       "3  22.0           12.0            4.0           0.0   4.00\n",
       "4  35.0           12.0           17.0           1.0   7.50"
      ]
     },
     "execution_count": 28,
     "metadata": {},
     "output_type": "execute_result"
    }
   ],
   "source": [
    "df = df[['Wiek', 'Wyksztalcenie', 'Doswiadczenie', 'Stan cywilny', 'Placa']]\n",
    "df.head()"
   ]
  },
  {
   "cell_type": "code",
   "execution_count": 29,
   "metadata": {},
   "outputs": [
    {
     "data": {
      "text/plain": [
       "<AxesSubplot:xlabel='Wiek', ylabel='Wyksztalcenie'>"
      ]
     },
     "execution_count": 29,
     "metadata": {},
     "output_type": "execute_result"
    },
    {
     "data": {
      "image/png": "[encoded data removed]",
      "text/plain": [
       "<Figure size 432x288 with 1 Axes>"
      ]
     },
     "metadata": {
      "needs_background": "light"
     },
     "output_type": "display_data"
    }
   ],
   "source": [
    "import seaborn as sns\n",
    "\n",
    "sns.scatterplot(data=df, x='Wiek', y='Wyksztalcenie')"
   ]
  },
  {
   "cell_type": "code",
   "execution_count": 30,
   "metadata": {},
   "outputs": [
    {
     "data": {
      "text/plain": [
       "<AxesSubplot:xlabel='Wiek', ylabel='Wyksztalcenie'>"
      ]
     },
     "execution_count": 30,
     "metadata": {},
     "output_type": "execute_result"
    },
    {
     "data": {
      "image/png": "[encoded data removed]",
      "text/plain": [
       "<Figure size 432x288 with 1 Axes>"
      ]
     },
     "metadata": {
      "needs_background": "light"
     },
     "output_type": "display_data"
    }
   ],
   "source": [
    "import seaborn as sns\n",
    "\n",
    "sns.scatterplot(data=df, x='Wiek', y='Wyksztalcenie', hue='Stan cywilny')"
   ]
  },
  {
   "cell_type": "code",
   "execution_count": 34,
   "metadata": {},
   "outputs": [
    {
     "name": "stdout",
     "output_type": "stream",
     "text": [
      "                            OLS Regression Results                            \n",
      "==============================================================================\n",
      "Dep. Variable:          Doswiadczenie   R-squared:                       1.000\n",
      "Model:                            OLS   Adj. R-squared:                  1.000\n",
      "Method:                 Least Squares   F-statistic:                 9.093e+05\n",
      "Date:                Sun, 02 Jun 2024   Prob (F-statistic):               0.00\n",
      "Time:                        13:27:33   Log-Likelihood:                 181.09\n",
      "No. Observations:                 534   AIC:                            -354.2\n",
      "Df Residuals:                     530   BIC:                            -337.1\n",
      "Df Model:                           3                                         \n",
      "Covariance Type:            nonrobust                                         \n",
      "=================================================================================\n",
      "                    coef    std err          t      P>|t|      [0.025      0.975]\n",
      "---------------------------------------------------------------------------------\n",
      "const            -5.9913      0.049   -122.346      0.000      -6.087      -5.895\n",
      "Wiek              0.9990      0.001   1493.813      0.000       0.998       1.000\n",
      "Wyksztalcenie    -0.9975      0.003   -312.367      0.000      -1.004      -0.991\n",
      "Placa             0.0002      0.002      0.110      0.912      -0.003       0.003\n",
      "==============================================================================\n",
      "Omnibus:                     1322.900   Durbin-Watson:                   2.019\n",
      "Prob(Omnibus):                  0.000   Jarque-Bera (JB):          6113476.502\n",
      "Skew:                          22.821   Prob(JB):                         0.00\n",
      "Kurtosis:                     525.187   Cond. No.                         272.\n",
      "==============================================================================\n",
      "\n",
      "Notes:\n",
      "[1] Standard Errors assume that the covariance matrix of the errors is correctly specified.\n"
     ]
    },
    {
     "data": {
      "text/plain": [
       "<AxesSubplot:xlabel='Wiek', ylabel='Doswiadczenie'>"
      ]
     },
     "execution_count": 34,
     "metadata": {},
     "output_type": "execute_result"
    },
    {
     "data": {
      "image/png": "[encoded data removed]",
      "text/plain": [
       "<Figure size 432x288 with 1 Axes>"
      ]
     },
     "metadata": {
      "needs_background": "light"
     },
     "output_type": "display_data"
    }
   ],
   "source": [
    "import statsmodels.api as sm\n",
    "\n",
    "# Define the independent variables (X) and the dependent variable (Y)\n",
    "X = df[['Wiek', 'Wyksztalcenie', 'Placa']]\n",
    "Y = df['Doswiadczenie']\n",
    "\n",
    "# Add a constant term to the independent variables\n",
    "X = sm.add_constant(X)\n",
    "\n",
    "# Fit the OLS model\n",
    "model = sm.OLS(Y, X)\n",
    "results = model.fit()\n",
    "\n",
    "# Print the summary of the model\n",
    "print(results.summary())\n",
    "\n",
    "\n",
    "# Scatterplot\n",
    "sns.scatterplot(data=df, x='Wiek', y='Doswiadczenie')\n",
    "\n",
    "# Regression line\n",
    "sns.regplot(data=df, x='Wiek', y='Doswiadczenie', ci=None, line_kws={'color':'red'})\n"
   ]
  },
  {
   "cell_type": "markdown",
   "metadata": {},
   "source": [
    "\t1. Model jest idealnie dopasowany (R-squared = 1.000), co jest rzadkością i może sugerować przeuczenie modelu.\n",
    "\t2.\tWiek i Wyksztalcenie mają istotny wpływ na Doswiadczenie, podczas gdy Placa nie jest istotna statystycznie.\n",
    "\t3.\tWspółczynnik Wyksztalcenie jest negatywny, co jest nietypowe i może sugerować kolinearność lub inne problemy z danymi."
   ]
  }
 ],
 "metadata": {
  "kernelspec": {
   "display_name": "collegiumDaVinci",
   "language": "python",
   "name": "python3"
  },
  "language_info": {
   "codemirror_mode": {
    "name": "ipython",
    "version": 3
   },
   "file_extension": ".py",
   "mimetype": "text/x-python",
   "name": "python",
   "nbconvert_exporter": "python",
   "pygments_lexer": "ipython3",
   "version": "3.9.12"
  }
 },
 "nbformat": 4,
 "nbformat_minor": 2
}
