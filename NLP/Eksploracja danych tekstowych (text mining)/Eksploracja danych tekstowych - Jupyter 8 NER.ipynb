{
 "cells": [
  {
   "cell_type": "markdown",
   "metadata": {
    "id": "bm_2IEW7IRvx"
   },
   "source": [
    "## NER, Parsowanie zależnościowe"
   ]
  },
  {
   "cell_type": "markdown",
   "metadata": {
    "id": "4EtxTgrSIRv0"
   },
   "source": [
    "### 1. Importwoanie bibliotek i pobieranie modelu"
   ]
  },
  {
   "cell_type": "code",
   "execution_count": null,
   "metadata": {
    "id": "9Jry_GbxIRv0"
   },
   "outputs": [],
   "source": [
    "# za pomocą tej komenty możesz zainstalować spacy\n",
    "! pip install spacy"
   ]
  },
  {
   "cell_type": "code",
   "execution_count": null,
   "metadata": {
    "id": "uFCtix2gIRv1"
   },
   "outputs": [],
   "source": [
    "import spacy\n",
    "from spacy import displacy"
   ]
  },
  {
   "cell_type": "markdown",
   "metadata": {
    "id": "LjL1tempIRv2"
   },
   "source": [
    "### 2. Tworzenie drzewa składniowego"
   ]
  },
  {
   "cell_type": "code",
   "execution_count": null,
   "metadata": {
    "id": "bzld6dHFIRv2"
   },
   "outputs": [],
   "source": [
    "# załadowanie modelu\n",
    "nlp = spacy.load(\"pl_core_news_lg\")\n",
    "\n",
    "sentence = input(\"tutaj wprowadź swoje zdanie\")\n",
    "\n",
    "# przetwarzanie zdania przez spacy\n",
    "doc = nlp(sentence)\n",
    "\n",
    "# wyświetlanie drzewa składniowego\n",
    "displacy.render(doc, style='dep')"
   ]
  },
  {
   "cell_type": "markdown",
   "metadata": {},
   "source": [
    "### 2. NER"
   ]
  },
  {
   "cell_type": "code",
   "execution_count": null,
   "metadata": {},
   "outputs": [],
   "source": [
    "# instalacja bibliotek oraz pobieranie modelu\n",
    "# ! pip install spacy\n",
    "# ! python -m spacy download pl_core_news_lg"
   ]
  },
  {
   "cell_type": "code",
   "execution_count": null,
   "metadata": {},
   "outputs": [],
   "source": [
    "import spacy\n",
    "from spacy import displacy"
   ]
  },
  {
   "cell_type": "code",
   "execution_count": null,
   "metadata": {},
   "outputs": [],
   "source": [
    "nlp = spacy.load('pl_core_news_lg')\n",
    "\n",
    "text = \"\"\"\n",
    "31 grudnia każdego roku o godzinie 11:00 czasu polskiego, jako pierwsi świętują przyjście Nowego Roku mieszkańcy Republiki Kiribati.\n",
    "\n",
    "Republika Kiribati to państwo wyspiarskie położone na obszarze Oceanii, złożone z 33 atoli rozsianych po Pacyfiku. Najważniejszą wyspą w archipelagu jest South Tarawa, pełniąca rolę stolicy i zamieszkiwana przez większość ludności. Nazwa \"Kiribati\" jest miejscową wersją słowa \"Gilberts\" pochodzącego z języka angielskiego, które odnosi się do Wysp Gilberta, jednej z głównych grup wysp w tym kraju.\n",
    "\n",
    "Jednym ze wybitnych obywateli Kiribati jest Anote Tong, były prezydent kraju. Zyskał on międzynarodową sławę dzięki swojemu zaangażowaniu w działania związane ze zmianami klimatu. Innym znanym przywódcą Kiribati był Teburoro Tito, były prezydent, który przyczynił się do promocji i obrony praw Kiribati na arenie międzynarodowej.\n",
    "\n",
    "Na Kiribati istnieje wiele organizacji, które odgrywają kluczową rolę w różnych aspektach życia społecznego i kulturalnego. Przykładem jest Ueen Te Makeke, która działa na rzecz promocji kultury i zachowania tradycji Kiribati. Red Cross Society dostarcza pomoc humanitarną i medyczną mieszkańcom Republiki, szczególnie ważną w obliczu zagrożeń związanych ze zmianami klimatycznymi. Natomiast Te Waa Mai skupia się na ochronie środowiska naturalnego oraz zrównoważonym rozwoju archipelagu.\n",
    "\n",
    "Niestety, ze względu na globalne zmiany klimatyczne i podnoszenie się poziomu morza, Kiribati zmaga się z problemem migracji ludności, a w przyszłości może całkowicie zniknąć pod powierzchnią wody.\n",
    "\n",
    "\"\"\"\n",
    "\n",
    "doc = nlp(text)"
   ]
  },
  {
   "cell_type": "code",
   "execution_count": null,
   "metadata": {},
   "outputs": [],
   "source": [
    "colors = {\n",
    "    \"persName\": \"#84c8e0\",\n",
    "    \"placeName\": \"#33ff99\",\n",
    "    \"orgName\": \"#bd8df0\",\n",
    "    \"time\": \"#ffcc99\",\n",
    "    \"date\": \"#ff9999\",\n",
    "}\n",
    "options = {\"colors\": colors}\n",
    "displacy.render(doc, style='ent', jupyter=True, options=options)"
   ]
  }
 ],
 "metadata": {
  "colab": {
   "provenance": []
  },
  "kernelspec": {
   "display_name": "Python 3 (ipykernel)",
   "language": "python",
   "name": "python3"
  },
  "language_info": {
   "codemirror_mode": {
    "name": "ipython",
    "version": 3
   },
   "file_extension": ".py",
   "mimetype": "text/x-python",
   "name": "python",
   "nbconvert_exporter": "python",
   "pygments_lexer": "ipython3",
   "version": "3.10.12"
  }
 },
 "nbformat": 4,
 "nbformat_minor": 1
}
