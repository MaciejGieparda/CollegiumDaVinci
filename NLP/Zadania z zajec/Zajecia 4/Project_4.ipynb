{
 "cells": [
  {
   "cell_type": "code",
   "execution_count": 1,
   "metadata": {},
   "outputs": [],
   "source": [
    "import math"
   ]
  },
  {
   "cell_type": "markdown",
   "metadata": {},
   "source": [
    "Lista (list)\n",
    "Napisz program, który zapełni listę pięcioma nazwami miast i wypisze te zaczynające się od liter późniejszych w alfabecie niż K, a następnie wypisze wszystkie dłuższe niż 6-znakowe."
   ]
  },
  {
   "cell_type": "code",
   "execution_count": 2,
   "metadata": {},
   "outputs": [
    {
     "name": "stdout",
     "output_type": "stream",
     "text": [
      "Warszawa\n",
      "Lizbona\n"
     ]
    }
   ],
   "source": [
    "city_names = ['Poznan', 'Warszawa', 'Berlin', 'Lizbona', 'Londyn']\n",
    "\n",
    "for city in city_names:\n",
    "    if city[0] > 'K':\n",
    "        if len(city) > 6:\n",
    "            print(city)\n"
   ]
  },
  {
   "cell_type": "markdown",
   "metadata": {},
   "source": [
    "Słownik (dictionary)\n",
    "Napisz program, który po podaniu numeru miesiąca poda jego nazwę w języku polskim.\n",
    "Do przechowania numerów miesięcy i odpowiadających im nazw wykorzystaj słownik."
   ]
  },
  {
   "cell_type": "code",
   "execution_count": 3,
   "metadata": {},
   "outputs": [
    {
     "name": "stdout",
     "output_type": "stream",
     "text": [
      "Nazwa miesiąca: luty\n"
     ]
    }
   ],
   "source": [
    "month_names = {\n",
    "    1: 'styczeń',\n",
    "    2: 'luty',\n",
    "    3: 'marzec',\n",
    "    4: 'kwiecień',\n",
    "    5: 'maj',\n",
    "    6: 'czerwiec',\n",
    "    7: 'lipiec',\n",
    "    8: 'sierpień',\n",
    "    9: 'wrzesień',\n",
    "    10: 'październik',\n",
    "    11: 'listopad',\n",
    "    12: 'grudzień'\n",
    "}\n",
    "\n",
    "month_number = int(input(\"Podaj numer miesiąca: \"))\n",
    "month_name = month_names.get(month_number)\n",
    "\n",
    "if month_name:\n",
    "    print(f\"Nazwa miesiąca: {month_name}\")\n",
    "else:\n",
    "    print(\"Nieprawidłowy numer miesiąca.\")"
   ]
  },
  {
   "cell_type": "markdown",
   "metadata": {},
   "source": [
    "Zbiór (set)\n",
    "Napisz program, który zdefiniuje 2 zbiory a następnie wyświetli ich logiczną sumę, część wspólną oraz różnicę."
   ]
  },
  {
   "cell_type": "code",
   "execution_count": 4,
   "metadata": {},
   "outputs": [
    {
     "name": "stdout",
     "output_type": "stream",
     "text": [
      "Union: {1, 2, 3, 4, 5, 6, 7, 8}\n",
      "Intersection: {4, 5}\n",
      "Difference: {1, 2, 3}\n"
     ]
    }
   ],
   "source": [
    "set1 = {1, 2, 3, 4, 5}\n",
    "set2 = {4, 5, 6, 7, 8}\n",
    "\n",
    "union = set1.union(set2)\n",
    "intersection = set1.intersection(set2)\n",
    "difference = set1.difference(set2)\n",
    "\n",
    "print(\"Union:\", union)\n",
    "print(\"Intersection:\", intersection)\n",
    "print(\"Difference:\", difference)"
   ]
  },
  {
   "cell_type": "markdown",
   "metadata": {},
   "source": [
    "Krotka (tuple)\n",
    "Napisz program, w którym zdefiniujesz funkcję zwracającą pole i obwód koła na podstawie podanego promienia. "
   ]
  },
  {
   "cell_type": "code",
   "execution_count": 5,
   "metadata": {},
   "outputs": [
    {
     "name": "stdout",
     "output_type": "stream",
     "text": [
      "Pole koła: 78.53981633974483\n",
      "Obwód koła: 31.41592653589793\n"
     ]
    }
   ],
   "source": [
    "def calculate_circle(radius):\n",
    "    area = math.pi * radius**2\n",
    "    circumference = 2 * math.pi * radius\n",
    "    \n",
    "    return area, circumference\n",
    "\n",
    "# Przykładowe użycie funkcji\n",
    "radius = 5\n",
    "circle_area, circle_circumference = calculate_circle(radius)\n",
    "\n",
    "print(\"Pole koła:\", circle_area)\n",
    "print(\"Obwód koła:\", circle_circumference)"
   ]
  },
  {
   "cell_type": "markdown",
   "metadata": {},
   "source": [
    "Zapis tekstu do pliku\n",
    "Napisz program, który w pliku tekstowym o nazwie text.txt zapisze wprowadzany przez użytkownika tekst. Zapisywanie powinno zostać zakończone po napotkaniu pustego wiersza."
   ]
  },
  {
   "cell_type": "code",
   "execution_count": 6,
   "metadata": {},
   "outputs": [
    {
     "name": "stdout",
     "output_type": "stream",
     "text": [
      "Text has been written to text.txt\n"
     ]
    }
   ],
   "source": [
    "filename = \"text.txt\"\n",
    "\n",
    "with open(filename, \"w\") as file:\n",
    "    while True:\n",
    "        line = input(\"Enter text (press Enter to finish): \")\n",
    "        if line == \"\":\n",
    "            break\n",
    "        file.write(line + \"\\n\")\n",
    "\n",
    "print(\"Text has been written to\", filename)"
   ]
  },
  {
   "cell_type": "markdown",
   "metadata": {},
   "source": [
    "Serializacja typów sekwencyjnych do pliku\n",
    "Napisz program, który zapisze w pliku people.txt podane przez użytkownika dane osobowe: imię, nazwisko i rok urodzenia. Po wprowadzeniu pustego wiersza wyświetl dane zapisane w pliku w formacie:\n",
    " 1. Imię: imię_pierwszej_osoby, Nazwisko: nazwisko_pierwszej_osoby, Wiek: wiek_pierwszej_osoby  \n",
    " 2. Imię: imię_drugiej_osoby, Nazwisko: nazwisko_drugiej_osoby, Wiek: wiek_drugiej_osoby  \n"
   ]
  },
  {
   "cell_type": "code",
   "execution_count": 7,
   "metadata": {},
   "outputs": [
    {
     "name": "stdout",
     "output_type": "stream",
     "text": [
      "1. Imię: maciej, Nazwisko: gieparda, Wiek: 29\n",
      "2. Imię: tomek, Nazwisko: kania, Wiek: 793\n",
      "3. Imię: zbyszek, Nazwisko: boniek, Wiek: -122\n"
     ]
    }
   ],
   "source": [
    "import pickle\n",
    "\n",
    "people = []\n",
    "\n",
    "while True:\n",
    "    first_name = input(\"Enter first name (or leave empty to finish): \")\n",
    "    if not first_name:\n",
    "        break\n",
    "    last_name = input(\"Enter last name: \")\n",
    "    birth_year = int(input(\"Enter birth year: \"))\n",
    "    person = {'first_name': first_name, 'last_name': last_name, 'birth_year': birth_year}\n",
    "    people.append(person)\n",
    "\n",
    "with open('people.txt', 'wb') as file:\n",
    "    pickle.dump(people, file)\n",
    "\n",
    "with open('people.txt', 'rb') as file:\n",
    "    loaded_people = pickle.load(file)\n",
    "\n",
    "for i, person in enumerate(loaded_people):\n",
    "    print(f\"{i+1}. Imię: {person['first_name']}, Nazwisko: {person['last_name']}, Wiek: {2023 - person['birth_year']}\")"
   ]
  }
 ],
 "metadata": {
  "kernelspec": {
   "display_name": "base",
   "language": "python",
   "name": "python3"
  },
  "language_info": {
   "codemirror_mode": {
    "name": "ipython",
    "version": 3
   },
   "file_extension": ".py",
   "mimetype": "text/x-python",
   "name": "python",
   "nbconvert_exporter": "python",
   "pygments_lexer": "ipython3",
   "version": "3.11.5"
  }
 },
 "nbformat": 4,
 "nbformat_minor": 2
}
