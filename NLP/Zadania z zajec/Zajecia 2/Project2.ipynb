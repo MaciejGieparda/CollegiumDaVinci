{
 "cells": [
  {
   "cell_type": "markdown",
   "metadata": {},
   "source": [
    "1. Utwórz zmienną zawierającą wszystkie kombinacje wielkich liter i cyfr:\n",
    "A0, A1, A2, ... A9, …, B1, B2 …"
   ]
  },
  {
   "cell_type": "code",
   "execution_count": 7,
   "metadata": {},
   "outputs": [
    {
     "name": "stdout",
     "output_type": "stream",
     "text": [
      "['A0', 'A1', 'A2', 'A3', 'A4', 'A5', 'A6', 'A7', 'A8', 'A9', 'B0', 'B1', 'B2', 'B3', 'B4', 'B5', 'B6', 'B7', 'B8', 'B9', 'C0', 'C1', 'C2', 'C3', 'C4', 'C5', 'C6', 'C7', 'C8', 'C9', 'D0', 'D1', 'D2', 'D3', 'D4', 'D5', 'D6', 'D7', 'D8', 'D9', 'E0', 'E1', 'E2', 'E3', 'E4', 'E5', 'E6', 'E7', 'E8', 'E9', 'F0', 'F1', 'F2', 'F3', 'F4', 'F5', 'F6', 'F7', 'F8', 'F9', 'G0', 'G1', 'G2', 'G3', 'G4', 'G5', 'G6', 'G7', 'G8', 'G9', 'H0', 'H1', 'H2', 'H3', 'H4', 'H5', 'H6', 'H7', 'H8', 'H9', 'I0', 'I1', 'I2', 'I3', 'I4', 'I5', 'I6', 'I7', 'I8', 'I9', 'J0', 'J1', 'J2', 'J3', 'J4', 'J5', 'J6', 'J7', 'J8', 'J9', 'K0', 'K1', 'K2', 'K3', 'K4', 'K5', 'K6', 'K7', 'K8', 'K9', 'L0', 'L1', 'L2', 'L3', 'L4', 'L5', 'L6', 'L7', 'L8', 'L9', 'M0', 'M1', 'M2', 'M3', 'M4', 'M5', 'M6', 'M7', 'M8', 'M9', 'N0', 'N1', 'N2', 'N3', 'N4', 'N5', 'N6', 'N7', 'N8', 'N9', 'O0', 'O1', 'O2', 'O3', 'O4', 'O5', 'O6', 'O7', 'O8', 'O9', 'P0', 'P1', 'P2', 'P3', 'P4', 'P5', 'P6', 'P7', 'P8', 'P9', 'Q0', 'Q1', 'Q2', 'Q3', 'Q4', 'Q5', 'Q6', 'Q7', 'Q8', 'Q9', 'R0', 'R1', 'R2', 'R3', 'R4', 'R5', 'R6', 'R7', 'R8', 'R9', 'S0', 'S1', 'S2', 'S3', 'S4', 'S5', 'S6', 'S7', 'S8', 'S9', 'T0', 'T1', 'T2', 'T3', 'T4', 'T5', 'T6', 'T7', 'T8', 'T9', 'U0', 'U1', 'U2', 'U3', 'U4', 'U5', 'U6', 'U7', 'U8', 'U9', 'V0', 'V1', 'V2', 'V3', 'V4', 'V5', 'V6', 'V7', 'V8', 'V9', 'W0', 'W1', 'W2', 'W3', 'W4', 'W5', 'W6', 'W7', 'W8', 'W9', 'X0', 'X1', 'X2', 'X3', 'X4', 'X5', 'X6', 'X7', 'X8', 'X9', 'Y0', 'Y1', 'Y2', 'Y3', 'Y4', 'Y5', 'Y6', 'Y7', 'Y8', 'Y9', 'Z0', 'Z1', 'Z2', 'Z3', 'Z4', 'Z5', 'Z6', 'Z7', 'Z8', 'Z9']\n"
     ]
    }
   ],
   "source": [
    "import string\n",
    "\n",
    "combinations = []\n",
    "for letter in string.ascii_uppercase:\n",
    "    for number in string.digits:\n",
    "        combinations.append(letter + number)\n",
    "\n",
    "print(combinations)\n",
    "\n"
   ]
  },
  {
   "cell_type": "markdown",
   "metadata": {},
   "source": [
    "2. Napisz program szyfrujący, który do reprezentacji liczbowej danego znaku doda 2 jeżeli jest ona  parzysta lub odejmie 3 jeżeli jest ona nieparzysta.\n"
   ]
  },
  {
   "cell_type": "code",
   "execution_count": 8,
   "metadata": {},
   "outputs": [
    {
     "name": "stdout",
     "output_type": "stream",
     "text": [
      "Encrypted text: Jbnnl.\"Tltnf\u001e\n"
     ]
    }
   ],
   "source": [
    "def encrypt_char(c):\n",
    "    n = ord(c)\n",
    "    if n % 2 == 0:\n",
    "        return chr(n + 2)\n",
    "    else:\n",
    "        return chr(n - 3)\n",
    "\n",
    "def encrypt_text(text):\n",
    "    return ''.join(encrypt_char(c) for c in text)\n",
    "\n",
    "# Przykład użycia\n",
    "sample_text = \"Hello, World!\"\n",
    "encrypted_text = encrypt_text(sample_text)\n",
    "print(\"Encrypted text:\", encrypted_text)\n"
   ]
  },
  {
   "cell_type": "markdown",
   "metadata": {},
   "source": [
    "3. Pobierz jeden paragraf tekstu dowolnego artykułu i przypisz go do zmiennej. Korzystając z przygotowanej zmiennej oraz dokumentacji:"
   ]
  },
  {
   "cell_type": "code",
   "execution_count": 9,
   "metadata": {},
   "outputs": [
    {
     "name": "stdout",
     "output_type": "stream",
     "text": [
      "Policjanci dostali dzisiaj zgłoszenie, że na skwerku w jednym z wrocławskich parków grupka mężczyzn pije alkohol. Gdy funkcjonariusze przyjechali na miejsce okazało się, że nikogo tam nie ma.\n",
      "Policjanci dostali dzisiaj zgłoszenie, że na skwerku w jednym z wrocławskich parków grupka mężczyzn pije alkohol. Gdy funkcjonariusze przyjechali na miejsce okazało się, że nikogo tam nie ma.\n",
      "Policjanci dostali dzisiaj zgłoszenie, że na skwerku w jednym z wrocławskich parków grupka mężczyzn pije alkohol. Gdy funkcjonariusze przyjechali na miejsce okazało się, że nikogo tam nie ma.\n",
      "True\n",
      "True\n",
      "Policjanci dostali dzisiaj zgłoszenie, że na skwerku w jednym z wrocławskich parków grupka mężczyzn pije alkohol. Gdy funkcjonariusze przyjechali na miejsce okazało się, że nikogo tam nie ma\n",
      "policjanci dostali dzisiaj zgłoszenie, że na skwerku w jednym z wrocławskich parków grupka mężczyzn pije alkohol. gdy funkcjonariusze przyjechali na miejsce okazało się, że nikogo tam nie ma.\n",
      "POLICJANCI DOSTALI DZISIAJ ZGŁOSZENIE, ŻE NA SKWERKU W JEDNYM Z WROCŁAWSKICH PARKÓW GRUPKA MĘŻCZYZN PIJE ALKOHOL. GDY FUNKCJONARIUSZE PRZYJECHALI NA MIEJSCE OKAZAŁO SIĘ, ŻE NIKOGO TAM NIE MA.\n",
      "Policjanci Dostali Dzisiaj Zgłoszenie, Że Na Skwerku W Jednym Z Wrocławskich Parków Grupka Mężczyzn Pije Alkohol. Gdy Funkcjonariusze Przyjechali Na Miejsce Okazało Się, Że Nikogo Tam Nie Ma.\n",
      "['Policjanci', 'dostali', 'dzisiaj', 'zgłoszenie,', 'że', 'na', 'skwerku', 'w', 'jednym', 'z', 'wrocławskich', 'parków', 'grupka', 'mężczyzn', 'pije', 'alkohol.', 'Gdy', 'funkcjonariusze', 'przyjechali', 'na', 'miejsce', 'okazało', 'się,', 'że', 'nikogo', 'tam', 'nie', 'ma.']\n",
      "Strażacy dostali dzisiaj zgłoszenie, że na skwerku w jednym z wrocławskich parków grupka mężczyzn pije alkohol. Gdy funkcjonariusze przyjechali na miejsce okazało się, że nikogo tam nie ma.\n"
     ]
    }
   ],
   "source": [
    "article = \"Policjanci dostali dzisiaj zgłoszenie, że na skwerku w jednym z wrocławskich parków grupka mężczyzn pije alkohol. Gdy funkcjonariusze przyjechali na miejsce okazało się, że nikogo tam nie ma.\"\n",
    "\n",
    "print(article.center(100))\n",
    "print(article.ljust(100))\n",
    "print(article.rjust(100))\n",
    "print(article.startswith(\"Policjanci\"))\n",
    "print(article.endswith(\"ma.\"))\n",
    "print(article.strip(\".\"))\n",
    "print(article.lower())\n",
    "print(article.upper())\n",
    "print(article.title())\n",
    "print(article.split())\n",
    "print(article.replace(\"Policjanci\", \"Strażacy\"))\n"
   ]
  },
  {
   "cell_type": "markdown",
   "metadata": {},
   "source": [
    "4. Napisz program który przyjmuje na wejściu 2 łańcuchy tekstowe i wstawia pierwszy z nich w środku drugiego."
   ]
  },
  {
   "cell_type": "code",
   "execution_count": 10,
   "metadata": {},
   "outputs": [
    {
     "name": "stdout",
     "output_type": "stream",
     "text": [
      "a lancuch rowerRower ma 2 kolau jest z metalu\n"
     ]
    }
   ],
   "source": [
    "def insert_in_middle(s1, s2):\n",
    "    middle_index = len(s2) // 2\n",
    "    return s2[:middle_index] + s1 + s2[middle_index:]\n",
    "\n",
    "# Przykład użycia\n",
    "print(insert_in_middle(\"Rower ma 2 kola\", \"a lancuch roweru jest z metalu\"))\n"
   ]
  },
  {
   "cell_type": "markdown",
   "metadata": {},
   "source": [
    "5. Napisz program szyfrujący, który wykorzystuje Szyfr Cezara"
   ]
  },
  {
   "cell_type": "code",
   "execution_count": 11,
   "metadata": {},
   "outputs": [
    {
     "name": "stdout",
     "output_type": "stream",
     "text": [
      "Original text: Hello, World!\n",
      "Encrypted text: Khoor, Zruog!\n"
     ]
    }
   ],
   "source": [
    "def caesar_cipher(text, shift):\n",
    "    encrypted_text = \"\"\n",
    "    for char in text:\n",
    "        if char.isalpha():\n",
    "            shift_amount = shift % 26\n",
    "            if char.islower():\n",
    "                start = ord('a')\n",
    "            else:\n",
    "                start = ord('A')\n",
    "            encrypted_text += chr((ord(char) - start + shift_amount) % 26 + start)\n",
    "        else:\n",
    "            encrypted_text += char\n",
    "    return encrypted_text\n",
    "\n",
    "shift_amount = 3\n",
    "original_text = \"Hello, World!\"\n",
    "encrypted_text = caesar_cipher(original_text, shift_amount)\n",
    "print(\"Original text:\", original_text)\n",
    "print(\"Encrypted text:\", encrypted_text)\n"
   ]
  }
 ],
 "metadata": {
  "kernelspec": {
   "display_name": "collegiumDaVinci",
   "language": "python",
   "name": "python3"
  },
  "language_info": {
   "codemirror_mode": {
    "name": "ipython",
    "version": 3
   },
   "file_extension": ".py",
   "mimetype": "text/x-python",
   "name": "python",
   "nbconvert_exporter": "python",
   "pygments_lexer": "ipython3",
   "version": "3.1.undefined"
  }
 },
 "nbformat": 4,
 "nbformat_minor": 2
}
